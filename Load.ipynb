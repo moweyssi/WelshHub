{
 "cells": [
  {
   "cell_type": "code",
   "execution_count": 99,
   "metadata": {},
   "outputs": [],
   "source": [
    "from sklearn.metrics.pairwise import cosine_similarity\n",
    "import numpy as np\n",
    "import pandas as pd\n",
    "import os\n",
    "from openai import OpenAI"
   ]
  },
  {
   "cell_type": "code",
   "execution_count": 100,
   "metadata": {},
   "outputs": [],
   "source": [
    "with open(r\"C:\\Users\\maxim.oweyssi\\Energy Saving Trust\\Lutz Lemmer - Sample_AI_Chatbot_Documents\\apikey.txt\",\"r\") as r:\n",
    "    lutzkey = r.readlines()\n",
    "os.environ['OPENAI_API_KEY'] = lutzkey[0]"
   ]
  },
  {
   "cell_type": "markdown",
   "metadata": {},
   "source": [
    "## Load embedding from CSV"
   ]
  },
  {
   "cell_type": "code",
   "execution_count": 101,
   "metadata": {},
   "outputs": [],
   "source": [
    "df = pd.read_csv('embedding.csv')\n",
    "df['ada_embedding'] = df.ada_embedding.apply(eval).apply(np.array)"
   ]
  },
  {
   "cell_type": "code",
   "execution_count": 102,
   "metadata": {},
   "outputs": [],
   "source": [
    "client = OpenAI()\n",
    "\n",
    "def get_embedding(text, model=\"text-embedding-3-small\"):\n",
    "   text = text.replace(\"\\n\", \" \")\n",
    "   return client.embeddings.create(input = [text], model=model,dimensions=512).data[0].embedding\n",
    "\n",
    "def search_term_cosine_similarity(query, documents, vectorizer):\n",
    "    query_vector = vectorizer.transform([query])\n",
    "    document_vectors = vectorizer.transform(documents)\n",
    "    similarities = cosine_similarity(query_vector, document_vectors).flatten()\n",
    "    return similarities"
   ]
  },
  {
   "cell_type": "markdown",
   "metadata": {},
   "source": [
    "## Create embedding matrix and embed the query vector"
   ]
  },
  {
   "cell_type": "code",
   "execution_count": 103,
   "metadata": {},
   "outputs": [],
   "source": [
    "prompt = \"How can I increase energy efficiency of my home?\"\n",
    "embedded_prompt = np.array(get_embedding(prompt)).reshape(1, -1)\n",
    "embedding_matrix = np.array(df['ada_embedding'].to_numpy().tolist())"
   ]
  },
  {
   "cell_type": "markdown",
   "metadata": {},
   "source": [
    "## Find the closest match within the embedded data"
   ]
  },
  {
   "cell_type": "code",
   "execution_count": 105,
   "metadata": {},
   "outputs": [],
   "source": [
    "similarities = cosine_similarity(embedded_prompt, embedding_matrix).flatten()\n",
    "\n",
    "def find_closest_matches(similarities, paragraphs,page_numbers, document_names):\n",
    "    # Calculate cosine similarity\n",
    "\n",
    "    # Sort by similarity in descending order\n",
    "    sorting_indices = sorted(range(len(similarities)), key=lambda k: similarities[k], reverse=True)\n",
    "    sorted_page_numbers = [page_numbers[i] for i in sorting_indices]\n",
    "    sorted_document_names = [document_names[i] for i in sorting_indices]\n",
    "    sorted_paragraphs = [paragraphs[i] for i in sorting_indices]\n",
    "    sorted_similarities = [similarities[i] for i in sorting_indices]\n",
    "    return sorted_paragraphs, sorted_page_numbers, sorted_document_names, sorting_indices, sorted_similarities\n",
    "\n",
    "sorted_paragraphs, sorted_page_numbers, sorted_document_names, sorting_indices, sorted_similarities = find_closest_matches(similarities,\n",
    "                                                                                                                           df['Text'],\n",
    "                                                                                                                           df['Page'],\n",
    "                                                                                                                           df['Document']\n",
    "                                                                                                                           )\n"
   ]
  },
  {
   "cell_type": "markdown",
   "metadata": {},
   "source": [
    "## Query chat GPT to answer the question based on information from files"
   ]
  },
  {
   "cell_type": "code",
   "execution_count": 106,
   "metadata": {},
   "outputs": [],
   "source": [
    "def GPTprompt(pageno):\n",
    "    text1 = \"Please could you answer my question based on the text from '\" + sorted_document_names[pageno][0:-4] + \"' on \" + sorted_page_numbers[pageno] + \"?\\n\"\n",
    "    text2 = \"Answer my questions based on the text, but phrase your answers as your own and refer to the document as if I haven't provided it to you.\\n\"\n",
    "    text3 = \"If this text does not have enough information to answer in a full and unbiased way it is bad. This would happen for example if it comes from a page with not enough text where many images could have been. \\nIn this case, only reply 'ERROR999' to me and nothing else. I will give you another page and we try again.\\n\"\n",
    "    text4 = \"\\nMy question is:\\n\\n\" + prompt + \"\\n\\n\"\n",
    "    text5 = \"Text is here:\\n\\n\" + sorted_paragraphs[pageno]\n",
    "    return(text1+text2+text3+text4+text5)"
   ]
  },
  {
   "cell_type": "code",
   "execution_count": 107,
   "metadata": {},
   "outputs": [
    {
     "name": "stdout",
     "output_type": "stream",
     "text": [
      "0\n",
      "To increase the energy efficiency of your home, it is important to focus on implementing energy efficiency measures such as improving insulation, reducing draughts, and upgrading heating systems. These measures can lead to reduced carbon emissions, lower energy bills, and a more comfortable living environment. While some homes may have basic measures like cavity wall and loft insulation, there is still a need for more comprehensive solutions for properties that are considered 'hard to treat.' This includes implementing measures like solid wall insulation, floor insulation, and secondary glazing. New technical approaches, materials, and funding mechanisms are necessary to address the energy efficiency challenges faced by older buildings, especially those with traditional construction techniques. By investing in energy-saving upgrades and adopting innovative solutions like those offered by Q-Bots, significant energy savings can be achieved in older buildings.\n"
     ]
    }
   ],
   "source": [
    "\n",
    "while True:\n",
    "    pageno = 0\n",
    "    response = client.chat.completions.create(\n",
    "            model=\"gpt-3.5-turbo-0125\",\n",
    "            messages=[\n",
    "                {\"role\": \"system\", \"content\": \"You are a helpful assistant, working for the Welsh government providing people with information on saving energy.\"},\n",
    "                {\"role\": \"user\", \"content\": GPTprompt(pageno)}\n",
    "            ]\n",
    "        )\n",
    "    response_text = response.choices[0].message.content\n",
    "    if response_text=='ERROR999':\n",
    "        # Increment page number and update the prompt\n",
    "        print(\"ERROR\")\n",
    "        print(response_text)\n",
    "        pageno+=1\n",
    "    else:\n",
    "        # If no ERROR999 encountered, return the response\n",
    "        print(pageno)\n",
    "        print(response_text)\n",
    "        break"
   ]
  }
 ],
 "metadata": {
  "kernelspec": {
   "display_name": "portable",
   "language": "python",
   "name": "python3"
  },
  "language_info": {
   "codemirror_mode": {
    "name": "ipython",
    "version": 3
   },
   "file_extension": ".py",
   "mimetype": "text/x-python",
   "name": "python",
   "nbconvert_exporter": "python",
   "pygments_lexer": "ipython3",
   "version": "3.11.7"
  }
 },
 "nbformat": 4,
 "nbformat_minor": 2
}
